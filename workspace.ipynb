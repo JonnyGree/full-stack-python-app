{
 "cells": [
  {
   "cell_type": "code",
   "execution_count": null,
   "metadata": {},
   "outputs": [],
   "source": [
    "import yfinance\n",
    "\n",
    "df = yfinance.download('AAPL', start='2020-01-01', end='2020-12-01')\n",
    "df.to_csv('AAPL.csv')"
   ]
  },
  {
   "cell_type": "code",
   "execution_count": null,
   "metadata": {},
   "outputs": [],
   "source": [
    "import sqlite3\n",
    "connection = sqlite3.connect('app.db')\n",
    "\n",
    "cursor = connection.cursor()\n",
    "\n",
    "cursor.execute(\"\"\"\n",
    "    CREATE TABLE IF NOT EXISTS stock (\n",
    "    id iNTEGER PRIMART KEY,\n",
    "    symbol TEXT NOT NULL UNIQUE,\n",
    "    company TEXT NOT NULL\n",
    "    )\n",
    "\"\"\")\n",
    "\n",
    "cursor.execute(\"\"\"\n",
    "               CREATE TABLE IF NOT EXISTS stock_price (\n",
    "                    id INTEGER PRIMARY KEY,\n",
    "                    stock_id INTEGER,\n",
    "                    date NOT NULL,\n",
    "                    open NOT NULL,\n",
    "                    high NOT NULL,\n",
    "                    low NOT NULL,\n",
    "                    close NOT NULL,\n",
    "                    adjusted_close NOT NULL,\n",
    "                    volume NOT NULL,\n",
    "                    FOREIGN KEY (stock_id) REFERENCES stock (id)\n",
    "                )\n",
    "               \"\"\"\n",
    ")\n",
    "\n",
    "connection.commit()\n"
   ]
  },
  {
   "cell_type": "code",
   "execution_count": null,
   "metadata": {},
   "outputs": [],
   "source": [
    "from dotenv import load_dotenv\n",
    "import os\n",
    "import sqlite3\n",
    "import alpaca_trade_api as tradeapi\n",
    "\n",
    "# Load environment variables from the .env file\n",
    "load_dotenv()\n",
    "\n",
    "connection = sqlite3.connect('app.db')\n",
    "\n",
    "cursor = connection.cursor()\n",
    "\n",
    "\n",
    "api = tradeapi.REST(os.getenv('ALPACA_KEY'), os.getenv('ALPACA_SECRET'), base_url='https://paper-api.alpaca.markets')\n",
    "assets = api.list_assets()\n",
    "\n",
    "for asset in assets:\n",
    "    print(asset)"
   ]
  },
  {
   "cell_type": "code",
   "execution_count": null,
   "metadata": {},
   "outputs": [],
   "source": [
    "from dotenv import load_dotenv\n",
    "import os\n",
    "import sqlite3\n",
    "import alpaca_trade_api as tradeapi\n",
    "import pandas as pd\n",
    "from datetime import datetime\n",
    "import time\n",
    "\n",
    "# Load environment variables from the .env file\n",
    "load_dotenv()\n",
    "\n",
    "connection = sqlite3.connect('app.db')\n",
    "\n",
    "# Set row factory to sqlite3.Row to access columns by name\n",
    "connection.row_factory = sqlite3.Row\n",
    "cursor = connection.cursor()\n",
    "cursor.execute(\"\"\"SELECT id, symbol, name FROM stock\"\"\")\n",
    "rows = cursor.fetchall()\n",
    "\n",
    "symbols = []\n",
    "stock_dict = {}\n",
    "for row in rows:\n",
    "    symbol = row['symbol']\n",
    "    symbols.append(symbol)\n",
    "    stock_dict[symbol] = row['id']\n",
    "\n",
    "api = tradeapi.REST(os.getenv('ALPACA_KEY'), os.getenv('ALPACA_SECRET'), base_url='https://paper-api.alpaca.markets', api_version='v2')\n",
    "\n",
    "timeframe = tradeapi.TimeFrame.Day\n",
    "start_date = pd.Timestamp('2022-01-01', tz='America/New_York').isoformat()\n",
    "end_date = pd.Timestamp('2023-02-01', tz='America/New_York').isoformat()\n",
    "chunk_size = 200\n",
    "for i in range(0, len(symbols), chunk_size):\n",
    "        symbol_chunk = symbols[i:i+chunk_size]\n",
    "        bars = api.get_bars(symbol_chunk, timeframe, start=start_date, end=end_date).df\n",
    "        bars.to_sql('stock_data', con=connection, if_exists='replace', index_label='timestamp')\n",
    "        print(f\"Inserting records from {i} to {i + chunk_size}\")\n",
    "        time.sleep(3)"
   ]
  },
  {
   "cell_type": "code",
   "execution_count": null,
   "metadata": {},
   "outputs": [],
   "source": [
    "unique_symbols = bars['symbol'].unique()\n",
    "for symbols in unique_symbols:\n",
    "    print(symbols)\n",
    "# cursor.execute(\"\"\"\n",
    "#                INSERT INTO stock_price (stock_id, date, open, high, low, close, volume)\n",
    "#                VALUES (?, ?, ?, ?, ?, ?, ?)\n",
    "#                \"\"\", (stock_id, ))"
   ]
  },
  {
   "cell_type": "code",
   "execution_count": null,
   "metadata": {},
   "outputs": [],
   "source": [
    "for idx, row in bars.iterrows():\n",
    "    cursor.execute(\"\"\"\n",
    "        INSERT INTO stock_price (stock_id, date, open, high, low, close, volume)\n",
    "        SELECT s.id, ?, ?, ?, ?, ?, ?\n",
    "        FROM stock s\n",
    "        WHERE s.symbol = ?\n",
    "    \"\"\", (idx.strftime('%Y-%m-%d %H:%M:%S'), row['open'], row['high'], row['low'], row['close'], row['volume'], row['symbol']))\n",
    "\n",
    "    # Commit the changes to the stock_price table\n",
    "    connection.commit()"
   ]
  },
  {
   "cell_type": "code",
   "execution_count": null,
   "metadata": {},
   "outputs": [],
   "source": [
    "# Prepare data for bulk insert into stock_price\n",
    "records_to_insert = []\n",
    "for idx, row in bars.iterrows():\n",
    "    cursor.execute(\"SELECT id FROM stock WHERE symbol = ?\", (row['symbol'],))\n",
    "    stock_id = cursor.fetchone()[0]\n",
    "    records_to_insert.append((stock_id, idx.strftime('%Y-%m-%d %H:%M:%S'), row['open'], row['high'], row['low'], row['close'], row['volume']))\n",
    "\n",
    "# Bulk insert into stock_price\n",
    "cursor.executemany(\"\"\"\n",
    "    INSERT INTO stock_price (stock_id, date, open, high, low, close, volume)\n",
    "    VALUES (?, ?, ?, ?, ?, ?, ?)\n",
    "\"\"\", records_to_insert)\n",
    "\n",
    "# Commit the changes to the stock_price table\n",
    "connection.commit()"
   ]
  }
 ],
 "metadata": {
  "kernelspec": {
   "display_name": "Python 3",
   "language": "python",
   "name": "python3"
  },
  "language_info": {
   "codemirror_mode": {
    "name": "ipython",
    "version": 3
   },
   "file_extension": ".py",
   "mimetype": "text/x-python",
   "name": "python",
   "nbconvert_exporter": "python",
   "pygments_lexer": "ipython3",
   "version": "3.11.9"
  }
 },
 "nbformat": 4,
 "nbformat_minor": 2
}
